{
 "cells": [
  {
   "cell_type": "markdown",
   "id": "e022a53f-c541-4459-bba4-ff9fb60a3e81",
   "metadata": {},
   "source": [
    "***#4-1#***"
   ]
  },
  {
   "cell_type": "code",
   "execution_count": 4,
   "id": "7977c457-3ddd-4ec7-b9e8-d54077ee7e99",
   "metadata": {},
   "outputs": [
    {
     "name": "stdout",
     "output_type": "stream",
     "text": [
      "Dear Albert Einstein, you are cordially invited to dinner at my place. I would be honored by your presence.\n",
      "Dear Marie Curie, you are cordially invited to dinner at my place. I would be honored by your presence.\n",
      "Dear Nikola Tesla, you are cordially invited to dinner at my place. I would be honored by your presence.\n"
     ]
    }
   ],
   "source": [
    "# Guest list\n",
    "guests = [\"Albert Einstein\", \"Marie Curie\", \"Nikola Tesla\"]\n",
    "\n",
    "# Printing invitation messages\n",
    "for guest in guests:\n",
    "    print(f\"Dear {guest}, you are cordially invited to dinner at my place. I would be honored by your presence.\")"
   ]
  },
  {
   "cell_type": "markdown",
   "id": "a4650e10-53ad-44cd-9c1f-951a1ce377c0",
   "metadata": {},
   "source": [
    "***#4-2#***"
   ]
  },
  {
   "cell_type": "code",
   "execution_count": 9,
   "id": "95380edc-f9c5-4e2f-be6c-ae497bdfe0e6",
   "metadata": {},
   "outputs": [
    {
     "name": "stdout",
     "output_type": "stream",
     "text": [
      "\n",
      "Unfortunately, Ada Lovelace can't make it to the dinner.\n"
     ]
    }
   ],
   "source": [
    "# Guest who can't make it\n",
    "unavailable_guest = guests[1]\n",
    "print(f\"\\nUnfortunately, {unavailable_guest} can't make it to the dinner.\")\n",
    "\n"
   ]
  },
  {
   "cell_type": "code",
   "execution_count": 11,
   "id": "e4b69d90-02e8-49bf-bbf2-ab1552b82fb8",
   "metadata": {},
   "outputs": [],
   "source": [
    "# Replacing the unavailable guest with a new one\n",
    "guests[1] = \"Ada Lovelace\"\n",
    "\n"
   ]
  },
  {
   "cell_type": "code",
   "execution_count": 13,
   "id": "562fd765-749c-487a-9dd2-e9c4d911c966",
   "metadata": {},
   "outputs": [
    {
     "name": "stdout",
     "output_type": "stream",
     "text": [
      "Dear Albert Einstein, you are cordially invited to dinner at my place. I would be honored by your presence.\n",
      "Dear Ada Lovelace, you are cordially invited to dinner at my place. I would be honored by your presence.\n",
      "Dear Nikola Tesla, you are cordially invited to dinner at my place. I would be honored by your presence.\n"
     ]
    }
   ],
   "source": [
    "# Printing new invitation messages\n",
    "for guest in guests:\n",
    "    print(f\"Dear {guest}, you are cordially invited to dinner at my place. I would be honored by your presence.\")"
   ]
  },
  {
   "cell_type": "markdown",
   "id": "7f418ffd-d99f-4d62-9047-81b8d083237a",
   "metadata": {},
   "source": [
    "***#4-3#***\n"
   ]
  },
  {
   "cell_type": "code",
   "execution_count": 18,
   "id": "652ecf7c-dd19-49dc-8146-009911a24758",
   "metadata": {},
   "outputs": [
    {
     "name": "stdout",
     "output_type": "stream",
     "text": [
      "Good news! I found a bigger dinner table, so I'm inviting more people.\n"
     ]
    }
   ],
   "source": [
    "print(\"Good news! I found a bigger dinner table, so I'm inviting more people.\")"
   ]
  },
  {
   "cell_type": "code",
   "execution_count": 20,
   "id": "0a6bc36e-85b7-4faf-b3a4-1500d43d04fe",
   "metadata": {},
   "outputs": [],
   "source": [
    "# Adding more guests\n",
    "guests.insert(0, \"Isaac Newton\")  # Beginning\n",
    "guests.insert(2, \"Leonardo da Vinci\")  # Middle\n",
    "guests.append(\"Galileo Galilei\")  # End"
   ]
  },
  {
   "cell_type": "code",
   "execution_count": 22,
   "id": "94d9cbf3-0700-4a34-b82b-b10244a9356f",
   "metadata": {},
   "outputs": [
    {
     "name": "stdout",
     "output_type": "stream",
     "text": [
      "Dear Isaac Newton, you are cordially invited to dinner at my place. I would be honored by your presence.\n",
      "Dear Albert Einstein, you are cordially invited to dinner at my place. I would be honored by your presence.\n",
      "Dear Leonardo da Vinci, you are cordially invited to dinner at my place. I would be honored by your presence.\n",
      "Dear Ada Lovelace, you are cordially invited to dinner at my place. I would be honored by your presence.\n",
      "Dear Nikola Tesla, you are cordially invited to dinner at my place. I would be honored by your presence.\n",
      "Dear Galileo Galilei, you are cordially invited to dinner at my place. I would be honored by your presence.\n"
     ]
    }
   ],
   "source": [
    "for guest in guests:\n",
    "    print(f\"Dear {guest}, you are cordially invited to dinner at my place. I would be honored by your presence.\")"
   ]
  },
  {
   "cell_type": "markdown",
   "id": "30a29b46-ccf0-4c31-bc04-182c4f8c14c1",
   "metadata": {},
   "source": [
    "***#4-3#***"
   ]
  },
  {
   "cell_type": "code",
   "execution_count": 25,
   "id": "9135e765-ddef-4078-82bb-0fe80069e4af",
   "metadata": {},
   "outputs": [
    {
     "name": "stdout",
     "output_type": "stream",
     "text": [
      "I just found out that my new dinner table won't arrive in time, so I can invite only two people for dinner.\n"
     ]
    }
   ],
   "source": [
    "print(\"I just found out that my new dinner table won't arrive in time, so I can invite only two people for dinner.\")"
   ]
  },
  {
   "cell_type": "code",
   "execution_count": 27,
   "id": "7262862a-174e-4ad3-b7bd-57616f439ffc",
   "metadata": {},
   "outputs": [
    {
     "name": "stdout",
     "output_type": "stream",
     "text": [
      "Sorry, Galileo Galilei, I can't invite you to dinner due to limited space.\n",
      "Sorry, Nikola Tesla, I can't invite you to dinner due to limited space.\n",
      "Sorry, Ada Lovelace, I can't invite you to dinner due to limited space.\n",
      "Sorry, Leonardo da Vinci, I can't invite you to dinner due to limited space.\n"
     ]
    }
   ],
   "source": [
    "while len(guests) > 2:\n",
    "    removed_guest = guests.pop()\n",
    "    print(f\"Sorry, {removed_guest}, I can't invite you to dinner due to limited space.\")"
   ]
  },
  {
   "cell_type": "code",
   "execution_count": 29,
   "id": "7dbc3578-cad9-413e-9820-05b48ee38feb",
   "metadata": {},
   "outputs": [
    {
     "name": "stdout",
     "output_type": "stream",
     "text": [
      "Dear Isaac Newton, you're still invited to dinner.\n",
      "Dear Albert Einstein, you're still invited to dinner.\n"
     ]
    }
   ],
   "source": [
    "for guest in guests:\n",
    "    print(f\"Dear {guest}, you're still invited to dinner.\")"
   ]
  },
  {
   "cell_type": "code",
   "execution_count": 31,
   "id": "cbd746c4-67e8-4555-8805-5bed5bf96378",
   "metadata": {},
   "outputs": [],
   "source": [
    "del guests[0]\n",
    "del guests[0]"
   ]
  },
  {
   "cell_type": "code",
   "execution_count": 35,
   "id": "1f9a4065-102d-49f5-96dd-ea8427718f82",
   "metadata": {},
   "outputs": [
    {
     "name": "stdout",
     "output_type": "stream",
     "text": [
      "Final guest list: []\n"
     ]
    }
   ],
   "source": [
    "print(\"Final guest list:\", guests)"
   ]
  },
  {
   "cell_type": "markdown",
   "id": "4eb08753-c153-4301-8fee-270a2f56f64c",
   "metadata": {},
   "source": [
    "***#4-5#***"
   ]
  },
  {
   "cell_type": "code",
   "execution_count": 40,
   "id": "903ce89f-207d-4b57-a03c-0ccd9660246e",
   "metadata": {},
   "outputs": [],
   "source": [
    "fruits = [\"Apple\", \"Banana\", \"Cherry\", \"Date\", \"Elderberry\"]"
   ]
  },
  {
   "cell_type": "code",
   "execution_count": 48,
   "id": "56fc84f9-b04a-4266-883d-adaae1389866",
   "metadata": {},
   "outputs": [
    {
     "name": "stdout",
     "output_type": "stream",
     "text": [
      "Indexing examples:\n",
      "First fruit: Apple\n",
      "Last fruit: Elderberry\n"
     ]
    }
   ],
   "source": [
    "# Indexing\n",
    "print(\"Indexing examples:\")\n",
    "print(\"First fruit:\", fruits[0])\n",
    "print(\"Last fruit:\", fruits[-1])\n",
    "\n"
   ]
  },
  {
   "cell_type": "code",
   "execution_count": 46,
   "id": "f7bc485f-b88a-4fb8-8e90-0849a886444e",
   "metadata": {},
   "outputs": [
    {
     "name": "stdout",
     "output_type": "stream",
     "text": [
      "Slicing examples:\n",
      "First three fruits: ['Apple', 'Banana', 'Cherry']\n",
      "Middle fruits: ['Banana', 'Cherry', 'Date']\n",
      "Last two fruits: ['Date', 'Elderberry']\n"
     ]
    }
   ],
   "source": [
    "# Slicing\n",
    "print(\"Slicing examples:\")\n",
    "print(\"First three fruits:\", fruits[:3])\n",
    "print(\"Middle fruits:\", fruits[1:4])\n",
    "print(\"Last two fruits:\", fruits[-2:])"
   ]
  },
  {
   "cell_type": "code",
   "execution_count": null,
   "id": "13d519b2-03ec-4bea-b36a-574f6eeb7b6a",
   "metadata": {},
   "outputs": [],
   "source": []
  }
 ],
 "metadata": {
  "kernelspec": {
   "display_name": "Python 3 (ipykernel)",
   "language": "python",
   "name": "python3"
  },
  "language_info": {
   "codemirror_mode": {
    "name": "ipython",
    "version": 3
   },
   "file_extension": ".py",
   "mimetype": "text/x-python",
   "name": "python",
   "nbconvert_exporter": "python",
   "pygments_lexer": "ipython3",
   "version": "3.12.4"
  }
 },
 "nbformat": 4,
 "nbformat_minor": 5
}
