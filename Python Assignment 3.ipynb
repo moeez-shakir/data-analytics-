{
 "cells": [
  {
   "cell_type": "markdown",
   "id": "0d45867f-3bfa-4049-8adb-bfb225045b66",
   "metadata": {},
   "source": [
    "***#Assignment#***"
   ]
  },
  {
   "cell_type": "code",
   "execution_count": 5,
   "id": "635a39ff-c66c-4905-93eb-895ce1b5fe63",
   "metadata": {},
   "outputs": [],
   "source": [
    "#Answer 1#\n"
   ]
  },
  {
   "cell_type": "code",
   "execution_count": 43,
   "id": "1835712b-b28f-443d-9f29-99d9666c29a5",
   "metadata": {},
   "outputs": [
    {
     "name": "stdout",
     "output_type": "stream",
     "text": [
      "\n",
      "Twinkle, twinkle, little star,\n",
      "    How I wonder what you are!\n",
      "        Up above the world so high,\n",
      "        Like a diamond in the sky.\n",
      "\n",
      "Twinkle, twinkle, little star,\n",
      "    How I wonder what you are\n",
      "\n"
     ]
    }
   ],
   "source": [
    "print(\"\"\"\n",
    "Twinkle, twinkle, little star,\n",
    "    How I wonder what you are!\n",
    "        Up above the world so high,\n",
    "        Like a diamond in the sky.\n",
    "\n",
    "Twinkle, twinkle, little star,\n",
    "    How I wonder what you are\n",
    "\"\"\")\n"
   ]
  },
  {
   "cell_type": "code",
   "execution_count": 13,
   "id": "4e0d8930-a239-42c9-987c-795f9b28902f",
   "metadata": {},
   "outputs": [],
   "source": [
    "#Answer 2#"
   ]
  },
  {
   "cell_type": "code",
   "execution_count": 45,
   "id": "2a24e6fe-5dae-4f91-bf87-6a2a4f916fa9",
   "metadata": {},
   "outputs": [
    {
     "name": "stdout",
     "output_type": "stream",
     "text": [
      "3.12.4 | packaged by Anaconda, Inc. | (main, Jun 18 2024, 15:03:56) [MSC v.1929 64 bit (AMD64)]\n"
     ]
    }
   ],
   "source": [
    "import sys\n",
    "print(sys.version)"
   ]
  },
  {
   "cell_type": "code",
   "execution_count": 47,
   "id": "a8d906b0-1fa7-4ee3-b04f-4b8dff9ce18e",
   "metadata": {},
   "outputs": [],
   "source": [
    "#Answer 3#"
   ]
  },
  {
   "cell_type": "code",
   "execution_count": 49,
   "id": "ef44d8b1-c8a3-4b07-b06f-a3be0cc4ebef",
   "metadata": {},
   "outputs": [
    {
     "name": "stdout",
     "output_type": "stream",
     "text": [
      "2024-08-04 00:22:06.163572\n"
     ]
    }
   ],
   "source": [
    "import datetime\n",
    "now = datetime.datetime.now()\n",
    "print(now)"
   ]
  },
  {
   "cell_type": "code",
   "execution_count": 64,
   "id": "fe3d8172-25bf-4391-a7ed-b3d16e4dfa4e",
   "metadata": {},
   "outputs": [],
   "source": [
    "#Answer 5#"
   ]
  },
  {
   "cell_type": "code",
   "execution_count": 62,
   "id": "f6802049-b734-4e8c-9f06-1fdf84621be1",
   "metadata": {},
   "outputs": [
    {
     "name": "stdin",
     "output_type": "stream",
     "text": [
      "Enter your first Name Moeez\n",
      "Enter your last Name Muhammad\n"
     ]
    },
    {
     "name": "stdout",
     "output_type": "stream",
     "text": [
      "Muhammad Moeez\n"
     ]
    }
   ],
   "source": [
    "f_name = input(\"Enter your first Name\")\n",
    "l_name = input(\"Enter your last Name\")\n",
    "print(l_name,f_name)"
   ]
  },
  {
   "cell_type": "code",
   "execution_count": 66,
   "id": "78f486ad-b1de-4839-90b9-36571b3e7dcd",
   "metadata": {},
   "outputs": [],
   "source": [
    "#Answer 6#"
   ]
  },
  {
   "cell_type": "code",
   "execution_count": 68,
   "id": "8e197a88-8511-4c1a-94f5-f5d2e173b1a9",
   "metadata": {},
   "outputs": [
    {
     "name": "stdout",
     "output_type": "stream",
     "text": [
      "35\n"
     ]
    }
   ],
   "source": [
    "num1=15\n",
    "num2=20\n",
    "sum=num1+num2\n",
    "print(sum)"
   ]
  },
  {
   "cell_type": "code",
   "execution_count": 70,
   "id": "22d0e0f7-0f56-465d-bfed-6287bf935558",
   "metadata": {},
   "outputs": [
    {
     "name": "stdin",
     "output_type": "stream",
     "text": [
      "enter math marks 79\n",
      "enter physics marks 95\n",
      "enter chemistry marks 82\n",
      "enter Biology marks 80\n",
      "enter English marks 85\n"
     ]
    },
    {
     "name": "stdout",
     "output_type": "stream",
     "text": [
      "Percentage =  84 %\n",
      "Grade      =  A\n"
     ]
    }
   ],
   "source": [
    "#Answer 7#\n",
    "math = int(input(\"enter math marks\"))\n",
    "physics = int(input(\"enter physics marks\"))\n",
    "chemistry = int(input(\"enter chemistry marks\"))\n",
    "Biology = int(input(\"enter Biology marks\"))\n",
    "English = int(input(\"enter English marks\"))\n",
    "grade = \"\"\n",
    "total_marks = math + physics + chemistry + Biology + English\n",
    "percentage = round((total_marks/500)*100)\n",
    "if percentage >= 80:\n",
    "    grade = \"A\"\n",
    "elif percentage < 80 and percentage >= 70:\n",
    "    grade = \"B\"\n",
    "elif percentage < 70 and percentage >= 60:\n",
    "    grade = \"C\"\n",
    "else:\n",
    "    grade = \"F\"\n",
    "print(\"Percentage = \",percentage,\"%\")\n",
    "print(\"Grade      = \",grade)\n"
   ]
  },
  {
   "cell_type": "code",
   "execution_count": 72,
   "id": "bd6cdd12-4003-40e1-9a5e-856280d8f95f",
   "metadata": {},
   "outputs": [],
   "source": [
    "#Answer 8#"
   ]
  },
  {
   "cell_type": "code",
   "execution_count": 74,
   "id": "2d38ab5e-6f8b-4379-890a-257a77a29b5d",
   "metadata": {},
   "outputs": [
    {
     "name": "stdin",
     "output_type": "stream",
     "text": [
      "Enter Number 5\n"
     ]
    },
    {
     "name": "stdout",
     "output_type": "stream",
     "text": [
      "Given Number is Odd\n"
     ]
    }
   ],
   "source": [
    "userInput = int(input(\"Enter Number\"))\n",
    "if (userInput%2) == 0:\n",
    "    print(\"Given number is even\")\n",
    "else:\n",
    "    print(\"Given Number is Odd\")\n"
   ]
  },
  {
   "cell_type": "code",
   "execution_count": 76,
   "id": "43c57609-0d5f-4f40-a1c5-8d806464040a",
   "metadata": {},
   "outputs": [],
   "source": [
    "#Answer 9#"
   ]
  },
  {
   "cell_type": "code",
   "execution_count": 80,
   "id": "99da856a-756c-46c4-aaa0-e18fe7743784",
   "metadata": {},
   "outputs": [
    {
     "name": "stdout",
     "output_type": "stream",
     "text": [
      "17\n"
     ]
    }
   ],
   "source": [
    "myList = [1,2,3,4,5,6,7,8,9,10,11,123,12,13,17,20,25]\n",
    "print(len(myList))"
   ]
  },
  {
   "cell_type": "code",
   "execution_count": 82,
   "id": "83123b81-5152-4910-aa01-ea2c5bb06b56",
   "metadata": {},
   "outputs": [],
   "source": [
    "#Answer 10#"
   ]
  },
  {
   "cell_type": "code",
   "execution_count": 84,
   "id": "ba7a72d5-c70c-46f2-963d-ec83958ee102",
   "metadata": {},
   "outputs": [
    {
     "name": "stdout",
     "output_type": "stream",
     "text": [
      "276\n"
     ]
    }
   ],
   "source": [
    "total_list = 0\n",
    "for i in range(len(myList)):\n",
    "    total_list = total_list + myList[i]\n",
    "\n",
    "print(total_list)"
   ]
  },
  {
   "cell_type": "code",
   "execution_count": 86,
   "id": "246f81fa-50d2-4037-a412-defe9cc70492",
   "metadata": {},
   "outputs": [],
   "source": [
    "#Answer 11#"
   ]
  },
  {
   "cell_type": "code",
   "execution_count": 89,
   "id": "226b7df7-ae84-48a0-a9a4-1f7d652a1ce6",
   "metadata": {},
   "outputs": [
    {
     "name": "stdout",
     "output_type": "stream",
     "text": [
      "123\n"
     ]
    }
   ],
   "source": [
    "highest = 0\n",
    "for i in range(len(myList)):\n",
    "    if myList[i] > highest:\n",
    "        highest = myList[i]\n",
    "\n",
    "print(highest)"
   ]
  },
  {
   "cell_type": "code",
   "execution_count": 91,
   "id": "7160d72b-d3e5-48c4-b3d8-4744af0b42b7",
   "metadata": {},
   "outputs": [],
   "source": [
    "#Answer 12#"
   ]
  },
  {
   "cell_type": "code",
   "execution_count": 93,
   "id": "9cb593b2-a79b-4819-a4b0-e6b9ea35311f",
   "metadata": {},
   "outputs": [
    {
     "name": "stdout",
     "output_type": "stream",
     "text": [
      "1\n",
      "1\n",
      "2\n",
      "3\n"
     ]
    }
   ],
   "source": [
    "a = [1, 1, 2, 3, 5, 8, 13, 21, 34, 55, 89]\n",
    "for i in range(len(a)):\n",
    "    if a[i] < 5:\n",
    "        print(a[i])"
   ]
  },
  {
   "cell_type": "code",
   "execution_count": null,
   "id": "11729954-c320-4de8-b517-2c9a5d40a875",
   "metadata": {},
   "outputs": [],
   "source": []
  }
 ],
 "metadata": {
  "kernelspec": {
   "display_name": "Python 3 (ipykernel)",
   "language": "python",
   "name": "python3"
  },
  "language_info": {
   "codemirror_mode": {
    "name": "ipython",
    "version": 3
   },
   "file_extension": ".py",
   "mimetype": "text/x-python",
   "name": "python",
   "nbconvert_exporter": "python",
   "pygments_lexer": "ipython3",
   "version": "3.12.4"
  }
 },
 "nbformat": 4,
 "nbformat_minor": 5
}
