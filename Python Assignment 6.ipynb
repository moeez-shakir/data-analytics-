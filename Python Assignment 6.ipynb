{
 "cells": [
  {
   "cell_type": "markdown",
   "id": "d95a89d2-db4d-44b0-8798-b12e6f02b761",
   "metadata": {},
   "source": [
    "***#Answer 1***"
   ]
  },
  {
   "cell_type": "code",
   "execution_count": 1,
   "id": "30abe4bb-57f5-4935-afb0-24a73bbc5cc6",
   "metadata": {},
   "outputs": [
    {
     "name": "stdout",
     "output_type": "stream",
     "text": [
      "* \n",
      "* * \n",
      "* * * \n",
      "* * * * \n",
      "* * * * * \n",
      "* * * * \n",
      "* * * \n",
      "* * \n",
      "* \n"
     ]
    }
   ],
   "source": [
    "# Part 1: Increasing pattern\n",
    "for star in range(1, 6):\n",
    "    print(\"* \" * star)\n",
    "    \n",
    "# Part 2: Decreasing pattern\n",
    "for star in range(4, 0, -1):\n",
    "    print(\"* \" * star)"
   ]
  },
  {
   "cell_type": "markdown",
   "id": "cfeb53d2-0ec0-4db1-adfe-a638061e45cf",
   "metadata": {},
   "source": [
    "***#Answer 2***"
   ]
  },
  {
   "cell_type": "code",
   "execution_count": 6,
   "id": "3bd713da-6240-4572-8f44-365e6ac425a1",
   "metadata": {},
   "outputs": [
    {
     "name": "stdin",
     "output_type": "stream",
     "text": [
      "Enter an alphabet:  m\n"
     ]
    },
    {
     "name": "stdout",
     "output_type": "stream",
     "text": [
      "m is a consonant.\n"
     ]
    }
   ],
   "source": [
    "# Input from the user\n",
    "alphabet = input(\"Enter an alphabet: \").lower()\n",
    "\n",
    "# Checking if the input is a vowel or consonant\n",
    "if alphabet in 'aeiou':\n",
    "    print(f\"{alphabet} is a vowel.\")\n",
    "else:\n",
    "    print(f\"{alphabet} is a consonant.\")"
   ]
  },
  {
   "cell_type": "markdown",
   "id": "94bafc91-d15c-4f52-ab0e-3f730c25d7fc",
   "metadata": {},
   "source": [
    "***#Answer 3***"
   ]
  },
  {
   "cell_type": "code",
   "execution_count": 11,
   "id": "0b9c400c-e5db-4f99-af33-21838be5509b",
   "metadata": {},
   "outputs": [
    {
     "name": "stdin",
     "output_type": "stream",
     "text": [
      "Input a number:  5\n"
     ]
    },
    {
     "name": "stdout",
     "output_type": "stream",
     "text": [
      "5 x 1 = 5\n",
      "5 x 2 = 10\n",
      "5 x 3 = 15\n",
      "5 x 4 = 20\n",
      "5 x 5 = 25\n",
      "5 x 6 = 30\n",
      "5 x 7 = 35\n",
      "5 x 8 = 40\n",
      "5 x 9 = 45\n",
      "5 x 10 = 50\n"
     ]
    }
   ],
   "source": [
    "# Input from the user\n",
    "number = int(input(\"Input a number: \"))\n",
    "\n",
    "# Creating the multiplication table\n",
    "for i in range(1, 11):\n",
    "    print(f\"{number} x {i} = {number * i}\")"
   ]
  },
  {
   "cell_type": "markdown",
   "id": "635a8df0-cd2c-4ea9-b7bb-8a547539d925",
   "metadata": {},
   "source": [
    "***#Answer 4***"
   ]
  },
  {
   "cell_type": "code",
   "execution_count": 14,
   "id": "d968bb95-ceac-4504-b532-a2be4d5fbfa7",
   "metadata": {},
   "outputs": [
    {
     "name": "stdin",
     "output_type": "stream",
     "text": [
      "Guess a number between 1 and 9:  7\n"
     ]
    },
    {
     "name": "stdout",
     "output_type": "stream",
     "text": [
      "Well guessed!\n"
     ]
    }
   ],
   "source": [
    "import random\n",
    "\n",
    "# Generate a random number between 1 and 9\n",
    "correct_number = random.randint(1, 9)\n",
    "guess = None\n",
    "\n",
    "# Loop until the user guesses correctly\n",
    "while guess != correct_number:\n",
    "    guess = int(input(\"Guess a number between 1 and 9: \"))\n",
    "    \n",
    "    if guess == correct_number:\n",
    "        print(\"Well guessed!\")\n",
    "        \n"
   ]
  },
  {
   "cell_type": "markdown",
   "id": "52d4004a-432a-4a18-8698-894e7ad2a182",
   "metadata": {},
   "source": [
    "***#Answer 5***"
   ]
  },
  {
   "cell_type": "code",
   "execution_count": 19,
   "id": "5ce5db2d-dd68-4b08-8848-9a91354be1ca",
   "metadata": {},
   "outputs": [
    {
     "name": "stdout",
     "output_type": "stream",
     "text": [
      "Height > 6ft and Weight > 70kg:\n",
      "{}\n"
     ]
    }
   ],
   "source": [
    "# Original Dictionary\n",
    "students = {\n",
    "    'Cierra Vega': (6.2, 70),\n",
    "    'Alden Cantrell': (5.9, 65),\n",
    "    'Kierra Gentry': (6.0, 68),\n",
    "    'Pierre Cox': (5.8, 66)\n",
    "}\n",
    "\n",
    "# Filter students with height > 6ft and weight > 70kg\n",
    "filtered_students = {name: stats for name, stats in students.items() if stats[0] > 6 and stats[1] > 70}\n",
    "\n",
    "print(\"Height > 6ft and Weight > 70kg:\")\n",
    "print(filtered_students)\n"
   ]
  },
  {
   "cell_type": "markdown",
   "id": "37092ca8-3b90-46e7-8f4d-6c252364feba",
   "metadata": {},
   "source": [
    "***#Answer 6***"
   ]
  },
  {
   "cell_type": "code",
   "execution_count": 22,
   "id": "c7f5451d-267a-4c2c-8101-38ac4551946f",
   "metadata": {},
   "outputs": [
    {
     "name": "stdout",
     "output_type": "stream",
     "text": [
      "Clear the list values in the said dictionary:\n",
      "{'C1': [], 'C2': [], 'C3': []}\n"
     ]
    }
   ],
   "source": [
    "# Original Dictionary\n",
    "original_dict = {'C1': [10, 20, 30], 'C2': [20, 30, 40], 'C3': [12, 34]}\n",
    "\n",
    "# Clearing the list values\n",
    "cleared_dict = {key: [] for key in original_dict}\n",
    "\n",
    "print(\"Clear the list values in the said dictionary:\")\n",
    "print(cleared_dict)\n"
   ]
  },
  {
   "cell_type": "markdown",
   "id": "9aa4b4c4-f040-4eca-80ae-7d4d62d70301",
   "metadata": {},
   "source": [
    "***#Answer 7***"
   ]
  },
  {
   "cell_type": "code",
   "execution_count": 25,
   "id": "98bdadee-0f3c-436d-9b8a-0e85ccdc0613",
   "metadata": {},
   "outputs": [
    {
     "name": "stdout",
     "output_type": "stream",
     "text": [
      "The Nile runs through Egypt.\n",
      "The Amazon runs through Brazil.\n",
      "The Yangtze runs through China.\n",
      "\n",
      "Rivers:\n",
      "Nile\n",
      "Amazon\n",
      "Yangtze\n",
      "\n",
      "Countries:\n",
      "Egypt\n",
      "Brazil\n",
      "China\n"
     ]
    }
   ],
   "source": [
    "# Dictionary of rivers and their countries\n",
    "rivers = {\n",
    "    'nile': 'egypt',\n",
    "    'amazon': 'brazil',\n",
    "    'yangtze': 'china'\n",
    "}\n",
    "\n",
    "# Printing sentences about each river\n",
    "for river, country in rivers.items():\n",
    "    print(f\"The {river.title()} runs through {country.title()}.\")\n",
    "\n",
    "# Printing the name of each river\n",
    "print(\"\\nRivers:\")\n",
    "for river in rivers:\n",
    "    print(river.title())\n",
    "\n",
    "# Printing the name of each country\n",
    "print(\"\\nCountries:\")\n",
    "for country in rivers.values():\n",
    "    print(country.title())\n"
   ]
  },
  {
   "cell_type": "markdown",
   "id": "c3c6cd27-3dc0-4b80-ad57-32c08e431f11",
   "metadata": {},
   "source": [
    "***#Answer 8***"
   ]
  },
  {
   "cell_type": "code",
   "execution_count": 28,
   "id": "12b8b5e5-7757-467b-ba08-6e93e0daa534",
   "metadata": {},
   "outputs": [
    {
     "name": "stdin",
     "output_type": "stream",
     "text": [
      "Enter your age (or -1 to quit):  5\n"
     ]
    },
    {
     "name": "stdout",
     "output_type": "stream",
     "text": [
      "Your ticket is $10.\n"
     ]
    },
    {
     "name": "stdin",
     "output_type": "stream",
     "text": [
      "Enter your age (or -1 to quit):  2\n"
     ]
    },
    {
     "name": "stdout",
     "output_type": "stream",
     "text": [
      "Your ticket is free.\n"
     ]
    },
    {
     "name": "stdin",
     "output_type": "stream",
     "text": [
      "Enter your age (or -1 to quit):  21\n"
     ]
    },
    {
     "name": "stdout",
     "output_type": "stream",
     "text": [
      "Your ticket is $15.\n"
     ]
    },
    {
     "name": "stdin",
     "output_type": "stream",
     "text": [
      "Enter your age (or -1 to quit):  -1\n"
     ]
    }
   ],
   "source": [
    "while True:\n",
    "    age = int(input(\"Enter your age (or -1 to quit): \"))\n",
    "    \n",
    "    if age == -1:\n",
    "        break\n",
    "    elif age < 3:\n",
    "        print(\"Your ticket is free.\")\n",
    "    elif 3 <= age <= 12:\n",
    "        print(\"Your ticket is $10.\")\n",
    "    else:\n",
    "        print(\"Your ticket is $15.\")\n"
   ]
  },
  {
   "cell_type": "code",
   "execution_count": null,
   "id": "202f344b-f417-4582-bcfd-5bfd3d1e6188",
   "metadata": {},
   "outputs": [],
   "source": []
  }
 ],
 "metadata": {
  "kernelspec": {
   "display_name": "Python 3 (ipykernel)",
   "language": "python",
   "name": "python3"
  },
  "language_info": {
   "codemirror_mode": {
    "name": "ipython",
    "version": 3
   },
   "file_extension": ".py",
   "mimetype": "text/x-python",
   "name": "python",
   "nbconvert_exporter": "python",
   "pygments_lexer": "ipython3",
   "version": "3.12.4"
  }
 },
 "nbformat": 4,
 "nbformat_minor": 5
}
