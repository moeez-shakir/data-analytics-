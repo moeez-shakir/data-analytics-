{
 "cells": [
  {
   "cell_type": "markdown",
   "id": "bb68a311-9fda-4b3c-8cff-4fc4ac180a74",
   "metadata": {},
   "source": [
    "**#Answer 1#**"
   ]
  },
  {
   "cell_type": "code",
   "execution_count": 55,
   "id": "23b89d9b-6506-4403-a456-4db0e4e166f6",
   "metadata": {},
   "outputs": [
    {
     "name": "stdout",
     "output_type": "stream",
     "text": [
      "ID: 101, Name: Maaz, Department: Finance\n",
      "ID: 102, Name: Hassan, Department: Engineering\n",
      "ID: 103, Name: Affan, Department: Marketing\n"
     ]
    }
   ],
   "source": [
    "# Example employee records\n",
    "employee_1 = (101, \"Maaz\", \"Finance\")\n",
    "employee_2 = (102, \"Hassan\", \"Engineering\")\n",
    "employee_3 = (103, \"Affan\", \"Marketing\")\n",
    "\n",
    "# List of employee records\n",
    "employee_records = [employee_1, employee_2, employee_3]\n",
    "\n",
    "# Example: Accessing an employee record\n",
    "for employee in employee_records:\n",
    "    print(f\"ID: {employee[0]}, Name: {employee[1]}, Department: {employee[2]}\")\n"
   ]
  },
  {
   "cell_type": "markdown",
   "id": "98ca88c2-bf62-47ee-9104-64d5fd71485a",
   "metadata": {},
   "source": [
    "**#Answer 2#**"
   ]
  },
  {
   "cell_type": "code",
   "execution_count": 50,
   "id": "f94cfe6a-0f59-4bec-b6f3-de7866da6234",
   "metadata": {},
   "outputs": [
    {
     "name": "stdout",
     "output_type": "stream",
     "text": [
      "Item ID: 201, Description: Laptop, Quantity: 10\n",
      "Item ID: 202, Description: Monitor, Quantity: 15\n",
      "Item ID: 203, Description: Keyboard, Quantity: 25\n"
     ]
    }
   ],
   "source": [
    "# Example inventory items\n",
    "item_1 = (201, \"Laptop\", 10)\n",
    "item_2 = (202, \"Monitor\", 15)\n",
    "item_3 = (203, \"Keyboard\", 25)\n",
    "\n",
    "# List of inventory items\n",
    "inventory = [item_1, item_2, item_3]\n",
    "\n",
    "# Example: Accessing an inventory item\n",
    "for item in inventory:\n",
    "    print(f\"Item ID: {item[0]}, Description: {item[1]}, Quantity: {item[2]}\")\n"
   ]
  },
  {
   "cell_type": "markdown",
   "id": "50b5fd67-68ee-4071-b3cc-3c8c8de10069",
   "metadata": {},
   "source": [
    "**#Answer 3#**"
   ]
  },
  {
   "cell_type": "code",
   "execution_count": 53,
   "id": "2c6879de-8116-4169-8a7d-327c9915a408",
   "metadata": {},
   "outputs": [
    {
     "name": "stdout",
     "output_type": "stream",
     "text": [
      "Date: 2024-08-16, Time: 10:00 AM\n",
      "Date: 2024-08-17, Time: 02:00 PM\n",
      "Date: 2024-08-18, Time: 11:00 AM\n"
     ]
    }
   ],
   "source": [
    "# Example scheduled events\n",
    "meeting_1 = (\"2024-08-16\", \"10:00 AM\")\n",
    "appointment_1 = (\"2024-08-17\", \"02:00 PM\")\n",
    "meeting_2 = (\"2024-08-18\", \"11:00 AM\")\n",
    "\n",
    "# List of events\n",
    "events = [meeting_1, appointment_1, meeting_2]\n",
    "\n",
    "# Example: Accessing event details\n",
    "for event in events:\n",
    "    print(f\"Date: {event[0]}, Time: {event[1]}\")\n"
   ]
  },
  {
   "cell_type": "markdown",
   "id": "6e2f4efb-bb35-4b2f-bcbe-d348415a9317",
   "metadata": {},
   "source": [
    "**#Answer 4#**"
   ]
  },
  {
   "cell_type": "code",
   "execution_count": null,
   "id": "a4fe7c9e-82e0-410e-8b07-045d26b535ea",
   "metadata": {},
   "outputs": [],
   "source": [
    "# Example employee details organized by department\n",
    "company_employees = {\n",
    "    \"Finance\": {\n",
    "        101: \"Waris\",\n",
    "        104: \"Shabi\"\n",
    "    },\n",
    "    \"Engineering\": {\n",
    "        102: \"Hamid\",\n",
    "        105: \"Faris\"\n",
    "    },\n",
    "    \"Marketing\": {\n",
    "        103: \"Laiba\",\n",
    "        106: \"Sarah\"\n",
    "    }\n",
    "}\n",
    "for dept, employees in company_employees.items():\n",
    "    print(f\"Department: {dept}\")\n",
    "    for emp_id, name in employees.items():\n",
    "        print(f\"  ID: {emp_id}, Name: {name}\")\n"
   ]
  },
  {
   "cell_type": "markdown",
   "id": "21534d97-e6dc-4ac0-8ee8-dd7ef8366023",
   "metadata": {},
   "source": [
    "**#Answer 5#**"
   ]
  },
  {
   "cell_type": "code",
   "execution_count": 74,
   "id": "317c4620-72be-4a0d-9fc1-db1da8eef943",
   "metadata": {},
   "outputs": [
    {
     "name": "stdout",
     "output_type": "stream",
     "text": [
      "Student: Amir\n",
      "  Subject: Math, Score: 85\n",
      "  Subject: Science, Score: 90\n",
      "  Subject: History, Score: 88\n",
      "Student: Afia\n",
      "  Subject: Math, Score: 92\n",
      "  Subject: Science, Score: 89\n",
      "  Subject: History, Score: 84\n",
      "Student: Aqsa\n",
      "  Subject: Math, Score: 78\n",
      "  Subject: Science, Score: 95\n",
      "  Subject: History, Score: 80\n"
     ]
    }
   ],
   "source": [
    "# Example student scores\n",
    "students_scores = [\n",
    "    {\"Amir\": {\"Math\": 85, \"Science\": 90, \"History\": 88}},\n",
    "    {\"Afia\": {\"Math\": 92, \"Science\": 89, \"History\": 84}},\n",
    "    {\"Aqsa\": {\"Math\": 78, \"Science\": 95, \"History\": 80}},\n",
    "]\n",
    "\n",
    "# Example: Retrieving a student's scores\n",
    "for student in students_scores:\n",
    "    for name, scores in student.items():\n",
    "        print(f\"Student: {name}\")\n",
    "        for subject, score in scores.items():\n",
    "            print(f\"  Subject: {subject}, Score: {score}\")\n"
   ]
  },
  {
   "cell_type": "markdown",
   "id": "dcaa22fb-edb7-443f-a85e-7aaf06aa6e0c",
   "metadata": {},
   "source": [
    "**#Answer 6#**"
   ]
  },
  {
   "cell_type": "code",
   "execution_count": 77,
   "id": "1171d5b3-3e02-4b80-9afe-b9db7b218ec4",
   "metadata": {},
   "outputs": [
    {
     "name": "stdout",
     "output_type": "stream",
     "text": [
      "Project: Project Alpha\n",
      "  Task 1: Define scope\n",
      "  Task 2: Gather requirements\n",
      "Project: Project Beta\n",
      "  Task 1: Design architecture\n",
      "  Task 2: Develop prototype\n"
     ]
    }
   ],
   "source": [
    "# Example projects and tasks\n",
    "projects = {\n",
    "    \"Project Alpha\": [\"Task 1: Define scope\", \"Task 2: Gather requirements\"],\n",
    "    \"Project Beta\": [\"Task 1: Design architecture\", \"Task 2: Develop prototype\"],\n",
    "}\n",
    "\n",
    "# Example: Retrieving tasks for a specific project\n",
    "for project, tasks in projects.items():\n",
    "    print(f\"Project: {project}\")\n",
    "    for task in tasks:\n",
    "        print(f\"  {task}\")\n"
   ]
  },
  {
   "cell_type": "markdown",
   "id": "60ee9288-c64c-4320-a527-7b767c6b62ac",
   "metadata": {},
   "source": [
    "**#Answer 7#**"
   ]
  },
  {
   "cell_type": "code",
   "execution_count": 84,
   "id": "4c2ff9d3-5334-4c3a-9ffa-76af8745923d",
   "metadata": {},
   "outputs": [
    {
     "name": "stdout",
     "output_type": "stream",
     "text": [
      "Course: Python Programming\n",
      "  Module 1: Introduction to Python\n",
      "  Module 2: Advanced Python Concepts\n",
      "Course: Data Science\n",
      "  Module 1: Introduction to Data Science\n",
      "  Module 2: Machine Learning Basics\n"
     ]
    }
   ],
   "source": [
    "# Example courses and modules\n",
    "courses = {\n",
    "    \"Python Programming\": {\n",
    "        \"Module 1\": \"Introduction to Python\",\n",
    "        \"Module 2\": \"Advanced Python Concepts\",\n",
    "    },\n",
    "    \"Data Science\": {\n",
    "        \"Module 1\": \"Introduction to Data Science\",\n",
    "        \"Module 2\": \"Machine Learning Basics\",\n",
    "    }\n",
    "}\n",
    "\n",
    "# Example: Retrieving details of a specific module\n",
    "for course, modules in courses.items():\n",
    "    print(f\"Course: {course}\")\n",
    "    for module, details in modules.items():\n",
    "        print(f\"  {module}: {details}\")\n"
   ]
  },
  {
   "cell_type": "markdown",
   "id": "e41ef858-429f-43ee-92ad-91e80994dab1",
   "metadata": {},
   "source": [
    "**#Answer 8#**"
   ]
  },
  {
   "cell_type": "code",
   "execution_count": 87,
   "id": "89294dad-385e-4978-99e0-2db815a42730",
   "metadata": {},
   "outputs": [
    {
     "name": "stdout",
     "output_type": "stream",
     "text": [
      "Products below the price threshold:\n",
      "Keyboard\n",
      "Mouse\n"
     ]
    }
   ],
   "source": [
    "# Example product list with prices\n",
    "products = [\n",
    "    (\"Laptop\", 1000),\n",
    "    (\"Monitor\", 150),\n",
    "    (\"Keyboard\", 50),\n",
    "    (\"Mouse\", 25)\n",
    "]\n",
    "\n",
    "# Define a price threshold\n",
    "price_threshold = 100\n",
    "\n",
    "# Finding products below the threshold\n",
    "affordable_products = [product for product, price in products if price < price_threshold]\n",
    "\n",
    "print(\"Products below the price threshold:\")\n",
    "for product in affordable_products:\n",
    "    print(product)\n"
   ]
  },
  {
   "cell_type": "code",
   "execution_count": null,
   "id": "3780c93c-fcaa-4805-9761-ebac7349008e",
   "metadata": {},
   "outputs": [],
   "source": []
  }
 ],
 "metadata": {
  "kernelspec": {
   "display_name": "Python 3 (ipykernel)",
   "language": "python",
   "name": "python3"
  },
  "language_info": {
   "codemirror_mode": {
    "name": "ipython",
    "version": 3
   },
   "file_extension": ".py",
   "mimetype": "text/x-python",
   "name": "python",
   "nbconvert_exporter": "python",
   "pygments_lexer": "ipython3",
   "version": "3.12.4"
  }
 },
 "nbformat": 4,
 "nbformat_minor": 5
}
